{
  "nbformat": 4,
  "nbformat_minor": 0,
  "metadata": {
    "colab": {
      "name": "EXERCISE-2.ipynb",
      "provenance": [],
      "collapsed_sections": []
    },
    "kernelspec": {
      "name": "python3",
      "display_name": "Python 3"
    }
  },
  "cells": [
    {
      "cell_type": "markdown",
      "metadata": {
        "id": "VybO3Z3AG7Z4",
        "colab_type": "text"
      },
      "source": [
        "## ***Project: Building Neural Network for Classifying Clothing Items from Fashion MNIST dataset.***\n",
        "- Experimentations performed:\n",
        "  - 1. Importing Fashion MNIST dataset from keras library.\n",
        "  - 2. Explore the dataset and data format.\n",
        "  - 3. Normalize dataset for better training.\n",
        "  - 4. Build basic NN model with input, output and single hidden layer with 128   neurons.\n",
        "  - 5. View the model summary.\n",
        "  - 6. Evaluate model accuracy on test dataset and note it.\n",
        "  - 7. Experimentations with model include:\n",
        "\t  - 1. Effect of Droping input layer.\n",
        "\t  - 2. Effect of Additional hidden layer on accuracy and training time.\n",
        "\t  - 3. Effect of increase in the number of neurons on accuracy and training time.\n",
        "\t  - 4. Effect of increase in number of epochs on accuracy.\n",
        "\t  - 5. Concept of Overfitting.\n",
        "\t  - 6. Using un-normalized data for training and its effect on accuracy.\n",
        "\t  - 7. Reducing the overfitting by writting custome function for accuracy monitization. "
      ]
    },
    {
      "cell_type": "markdown",
      "metadata": {
        "id": "yGHO3DVWNFAO",
        "colab_type": "text"
      },
      "source": [
        "## Start Coding\n",
        "\n",
        "Let's start with importing TensorFlow module:"
      ]
    },
    {
      "cell_type": "code",
      "metadata": {
        "id": "H2VaAvasMK4R",
        "colab_type": "code",
        "outputId": "cef4d535-423b-42ef-c3d6-78ff221a76d5",
        "colab": {
          "base_uri": "https://localhost:8080/",
          "height": 34
        }
      },
      "source": [
        "import tensorflow as tf\n",
        "#Print the version of it:\n",
        "print(tf.__version__)"
      ],
      "execution_count": 1,
      "outputs": [
        {
          "output_type": "stream",
          "text": [
            "2.2.0\n"
          ],
          "name": "stdout"
        }
      ]
    },
    {
      "cell_type": "markdown",
      "metadata": {
        "id": "JvmSaXkXNxRj",
        "colab_type": "text"
      },
      "source": [
        "We will train a Neural Network to recognize items of clothing from a dataset called **Fasion MNIST**. It contains **70,000 images of items of clothings** in 10 different categories. Each image of item of clothing is in 28x28 pixels sized. We can see here:\n",
        "![alt text](https://github.com/zalandoresearch/fashion-mnist/raw/master/doc/img/fashion-mnist-sprite.png)"
      ]
    },
    {
      "cell_type": "markdown",
      "metadata": {
        "id": "gbChSWMXOzUm",
        "colab_type": "text"
      },
      "source": [
        "The Fasion MNIST data is available directly in **tf.keras.datasets** API and we can load it like following:"
      ]
    },
    {
      "cell_type": "code",
      "metadata": {
        "id": "GePLxMTzPHZs",
        "colab_type": "code",
        "colab": {}
      },
      "source": [
        "mnist_dataset = tf.keras.datasets.fashion_mnist"
      ],
      "execution_count": 0,
      "outputs": []
    },
    {
      "cell_type": "code",
      "metadata": {
        "id": "70oTCvDZPXjB",
        "colab_type": "code",
        "outputId": "2790818f-e62b-44c1-eee0-b583e23f093f",
        "colab": {
          "base_uri": "https://localhost:8080/",
          "height": 34
        }
      },
      "source": [
        "#Print the status of mnist_dataset variable:\n",
        "print(mnist_dataset)"
      ],
      "execution_count": 0,
      "outputs": [
        {
          "output_type": "stream",
          "text": [
            "<module 'tensorflow.keras.datasets.fashion_mnist' from '/usr/local/lib/python3.6/dist-packages/tensorflow/keras/datasets/fashion_mnist/__init__.py'>\n"
          ],
          "name": "stdout"
        }
      ]
    },
    {
      "cell_type": "markdown",
      "metadata": {
        "id": "tDy_NS0LWh45",
        "colab_type": "text"
      },
      "source": [
        "Calling **load_data** on this **mnist_dataset** object will give us **2 sets of 2 lists **,which are the Training and Testing values for the Graphics that contain the clothing items and their labels:"
      ]
    },
    {
      "cell_type": "code",
      "metadata": {
        "id": "TcKUcajaXXZ2",
        "colab_type": "code",
        "colab": {}
      },
      "source": [
        "(training_images,training_labels),(test_images,test_labels) = mnist_dataset.load_data()"
      ],
      "execution_count": 0,
      "outputs": []
    },
    {
      "cell_type": "markdown",
      "metadata": {
        "id": "MRPg6XaNYEJA",
        "colab_type": "text"
      },
      "source": [
        "Let's print training image and associated label to see how the data looks like."
      ]
    },
    {
      "cell_type": "code",
      "metadata": {
        "id": "WDngj27HYZjd",
        "colab_type": "code",
        "colab": {}
      },
      "source": [
        "import matplotlib.pyplot as plt"
      ],
      "execution_count": 0,
      "outputs": []
    },
    {
      "cell_type": "code",
      "metadata": {
        "id": "X3jZFKqlYgZT",
        "colab_type": "code",
        "outputId": "4c178509-9328-4ef5-eb21-5de42248e450",
        "colab": {
          "base_uri": "https://localhost:8080/",
          "height": 1000
        }
      },
      "source": [
        "#Seeing the image at index 0:\n",
        "print(\"Training Label:\")\n",
        "print(training_labels[1000])\n",
        "\n",
        "print(\"Training Image:\")\n",
        "print(training_images[1000])\n",
        "\n",
        "#View the actual image:\n",
        "plt.imshow(training_images[1000],cmap='gray',vmin=0,vmax=255)\n",
        "plt.show()"
      ],
      "execution_count": 0,
      "outputs": [
        {
          "output_type": "stream",
          "text": [
            "Training Label:\n",
            "1\n",
            "Training Image:\n",
            "[[  0   0   0   0   0   0   0   0   0   0   0  97  84  97 110 108  87  97\n",
            "    0   0   0   0   0   0   0   0   0   0]\n",
            " [  0   0   0   0   0   0   0   0   0   0  19 255 199 183 142 161 200 213\n",
            "   32   0   0   0   0   0   0   0   0   0]\n",
            " [  0   0   0   0   0   0   0   0   0   0  72 174 173 158 131 132 176 176\n",
            "   70   0   0   0   0   0   0   0   0   0]\n",
            " [  0   0   0   0   0   0   0   0   0   0 142 180 163 120 180 126 139 168\n",
            "  122   0   0   0   0   0   0   0   0   0]\n",
            " [  0   0   0   0   0   0   0   0   0   0 156 180 162 171 170 183 163 169\n",
            "  144   0   0   0   0   0   0   0   0   0]\n",
            " [  0   0   0   0   0   0   0   0   0   0 159 177 163 174 166 173 170 163\n",
            "  148   0   0   0   0   0   0   0   0   0]\n",
            " [  0   0   0   0   0   0   0   0   0   0 160 182 160 168 175 167 157 168\n",
            "  139   0   0   0   0   0   0   0   0   0]\n",
            " [  0   0   0   0   0   0   0   0   0   0 143 185 161 171 184 176 160 175\n",
            "  131   0   0   0   0   0   0   0   0   0]\n",
            " [  0   0   0   0   0   0   0   0   0   0 143 188 155 172 182 180 161 182\n",
            "  127   0   0   0   0   0   0   0   0   0]\n",
            " [  0   0   0   0   0   0   0   0   0   0 127 170 168 175 211 191 163 184\n",
            "  113   0   0   0   0   0   0   0   0   0]\n",
            " [  0   0   0   0   0   0   0   0   0   0  78 132 175 177 129 203 161 187\n",
            "  102   0   0   0   0   0   0   0   0   0]\n",
            " [  0   0   0   0   0   0   0   0   0   0  91 166 163 190  63 203 159 189\n",
            "   94   0   0   0   0   0   0   0   0   0]\n",
            " [  0   0   0   0   0   0   0   0   0   0  98 126 166 192  65 198 167 193\n",
            "   84   0   0   0   0   0   0   0   0   0]\n",
            " [  0   0   0   0   0   0   0   0   0   0  90 127 170 198  61 200 174 198\n",
            "   71   0   0   0   0   0   0   0   0   0]\n",
            " [  0   0   0   0   0   0   0   0   0   0  93 141 151 207  55 196 171 196\n",
            "   58   0   0   0   0   0   0   0   0   0]\n",
            " [  0   0   0   0   0   0   0   0   0   0  88 137 136 210  54 198 173 199\n",
            "   46   0   0   0   0   0   0   0   0   0]\n",
            " [  0   0   0   0   0   0   0   0   0   0  72 125 131 214  55 199 176 200\n",
            "   38   0   0   0   0   0   0   0   0   0]\n",
            " [  0   0   0   0   0   0   0   0   0   0  56 146 126 210  56 200 175 200\n",
            "   37   0   0   0   0   0   0   0   0   0]\n",
            " [  0   0   0   0   0   0   0   0   0   0  40 237 171 195  64 199 174 203\n",
            "   36   0   0   0   0   0   0   0   0   0]\n",
            " [  0   0   0   0   0   0   0   0   0   0  23 190 168 192  70 196 171 203\n",
            "   30   0   0   0   0   0   0   0   0   0]\n",
            " [  0   0   0   0   0   0   0   0   0   0  15 188 171 196  70 198 173 202\n",
            "   21   0   0   0   0   0   0   0   0   0]\n",
            " [  0   0   0   0   0   0   0   0   0   0  11 187 172 197  71 199 174 203\n",
            "   15   0   0   0   0   0   0   0   0   0]\n",
            " [  0   0   0   0   0   0   0   0   0   0   1 183 175 198  73 195 174 205\n",
            "   13   0   0   0   0   0   0   0   0   0]\n",
            " [  0   0   0   0   0   0   0   0   0   0   0 186 177 200  78 191 175 171\n",
            "    8   0   0   0   0   0   0   0   0   0]\n",
            " [  0   0   0   0   0   0   0   0   0   0   0 181 177 198  78 189 176 166\n",
            "    4   0   0   0   0   0   0   0   0   0]\n",
            " [  0   0   0   0   0   0   0   0   0   0   0 178 182 182 107 184 175 193\n",
            "    0   0   0   0   0   0   0   0   0   0]\n",
            " [  0   0   0   0   0   0   0   0   0   0   0 173 200 206  84 196 196 133\n",
            "    0   0   0   0   0   0   0   0   0   0]\n",
            " [  0   0   0   0   0   0   0   0   0   0   0  68 207 182   0 175 195  34\n",
            "    0   0   0   0   0   0   0   0   0   0]]\n"
          ],
          "name": "stdout"
        },
        {
          "output_type": "display_data",
          "data": {
            "image/png": "[encoded data removed]",
            "text/plain": [
              "<Figure size 432x288 with 1 Axes>"
            ]
          },
          "metadata": {
            "tags": [],
            "needs_background": "light"
          }
        }
      ]
    },
    {
      "cell_type": "markdown",
      "metadata": {
        "id": "CPnMuxUVbY3E",
        "colab_type": "text"
      },
      "source": [
        "We can notice that all the values are between 0 to 255. During training the Neural Network its easier for the network to train itself if the values are between in the **range 0 to 1**. This process is called **Normalization**."
      ]
    },
    {
      "cell_type": "code",
      "metadata": {
        "id": "6RcTcj5AaBdK",
        "colab_type": "code",
        "outputId": "92d885fe-4759-4bea-e93c-59e5745fe2f9",
        "colab": {
          "base_uri": "https://localhost:8080/",
          "height": 265
        }
      },
      "source": [
        "#Let's view the image at different position:\n",
        "plt.imshow(training_images[450],cmap='gray',vmin=0,vmax=255)\n",
        "plt.show()"
      ],
      "execution_count": 0,
      "outputs": [
        {
          "output_type": "display_data",
          "data": {
            "image/png": "[encoded data removed]",
            "text/plain": [
              "<Figure size 432x288 with 1 Axes>"
            ]
          },
          "metadata": {
            "tags": [],
            "needs_background": "light"
          }
        }
      ]
    },
    {
      "cell_type": "code",
      "metadata": {
        "id": "TSQ5EsDyazFl",
        "colab_type": "code",
        "outputId": "fff606d6-c576-4ff3-c0dc-c11f6d7d12d7",
        "colab": {
          "base_uri": "https://localhost:8080/",
          "height": 34
        }
      },
      "source": [
        "#Let's check the shape of the training and test datasets:\n",
        "training_images.shape"
      ],
      "execution_count": 0,
      "outputs": [
        {
          "output_type": "execute_result",
          "data": {
            "text/plain": [
              "(60000, 28, 28)"
            ]
          },
          "metadata": {
            "tags": []
          },
          "execution_count": 104
        }
      ]
    },
    {
      "cell_type": "code",
      "metadata": {
        "id": "qND4GwaWa-kj",
        "colab_type": "code",
        "outputId": "355832da-a1b9-4479-f289-e172115bc9a9",
        "colab": {
          "base_uri": "https://localhost:8080/",
          "height": 34
        }
      },
      "source": [
        "#Check the labels:\n",
        "training_labels.shape"
      ],
      "execution_count": 0,
      "outputs": [
        {
          "output_type": "execute_result",
          "data": {
            "text/plain": [
              "(60000,)"
            ]
          },
          "metadata": {
            "tags": []
          },
          "execution_count": 105
        }
      ]
    },
    {
      "cell_type": "code",
      "metadata": {
        "id": "b-ZdHZ_6bJrg",
        "colab_type": "code",
        "outputId": "e3096349-9b8a-4198-ef80-136def14c1c3",
        "colab": {
          "base_uri": "https://localhost:8080/",
          "height": 34
        }
      },
      "source": [
        "#View the dimensions of the training and test datasets:\n",
        "training_images.ndim"
      ],
      "execution_count": 0,
      "outputs": [
        {
          "output_type": "execute_result",
          "data": {
            "text/plain": [
              "3"
            ]
          },
          "metadata": {
            "tags": []
          },
          "execution_count": 106
        }
      ]
    },
    {
      "cell_type": "code",
      "metadata": {
        "id": "eXXwSVzycrKY",
        "colab_type": "code",
        "outputId": "263a0fae-c526-4d8a-cfc1-bfea7c6c5664",
        "colab": {
          "base_uri": "https://localhost:8080/",
          "height": 34
        }
      },
      "source": [
        "#View the min and max values of the numbers(pixel intencity value) from training and test images:\n",
        "training_images.max()"
      ],
      "execution_count": 0,
      "outputs": [
        {
          "output_type": "execute_result",
          "data": {
            "text/plain": [
              "255"
            ]
          },
          "metadata": {
            "tags": []
          },
          "execution_count": 153
        }
      ]
    },
    {
      "cell_type": "code",
      "metadata": {
        "id": "4E_Jv3QTc_ct",
        "colab_type": "code",
        "outputId": "526021c2-8a46-492d-fb0b-c6524818a79b",
        "colab": {
          "base_uri": "https://localhost:8080/",
          "height": 34
        }
      },
      "source": [
        "training_images.min()"
      ],
      "execution_count": 0,
      "outputs": [
        {
          "output_type": "execute_result",
          "data": {
            "text/plain": [
              "0"
            ]
          },
          "metadata": {
            "tags": []
          },
          "execution_count": 154
        }
      ]
    },
    {
      "cell_type": "markdown",
      "metadata": {
        "id": "nf24Hen8cECS",
        "colab_type": "text"
      },
      "source": [
        "Normalize the data:"
      ]
    },
    {
      "cell_type": "code",
      "metadata": {
        "id": "PEqtxidQbUWY",
        "colab_type": "code",
        "colab": {}
      },
      "source": [
        "training_images = training_images / 255.0\n",
        "test_images = test_images / 255.0"
      ],
      "execution_count": 0,
      "outputs": []
    },
    {
      "cell_type": "code",
      "metadata": {
        "id": "Ui64VCh4iJ4Y",
        "colab_type": "code",
        "outputId": "6b1fcf64-c393-4e24-dd7e-c686a2aaa176",
        "colab": {
          "base_uri": "https://localhost:8080/",
          "height": 34
        }
      },
      "source": [
        "#Check training and testing data shape,min and max number:\n",
        "training_images.shape"
      ],
      "execution_count": 0,
      "outputs": [
        {
          "output_type": "execute_result",
          "data": {
            "text/plain": [
              "(60000, 28, 28)"
            ]
          },
          "metadata": {
            "tags": []
          },
          "execution_count": 130
        }
      ]
    },
    {
      "cell_type": "code",
      "metadata": {
        "id": "WEWXxhCPiVci",
        "colab_type": "code",
        "outputId": "2c92ce25-40cb-4aa2-aa64-b5cffe7e27a5",
        "colab": {
          "base_uri": "https://localhost:8080/",
          "height": 34
        }
      },
      "source": [
        "#Check shape again:\n",
        "test_images.shape"
      ],
      "execution_count": 0,
      "outputs": [
        {
          "output_type": "execute_result",
          "data": {
            "text/plain": [
              "(10000, 28, 28)"
            ]
          },
          "metadata": {
            "tags": []
          },
          "execution_count": 131
        }
      ]
    },
    {
      "cell_type": "code",
      "metadata": {
        "id": "KJGta_a_jXre",
        "colab_type": "code",
        "outputId": "343e931d-0f4f-4f93-fba2-6d1a38c943eb",
        "colab": {
          "base_uri": "https://localhost:8080/",
          "height": 34
        }
      },
      "source": [
        "training_labels.shape"
      ],
      "execution_count": 0,
      "outputs": [
        {
          "output_type": "execute_result",
          "data": {
            "text/plain": [
              "(60000,)"
            ]
          },
          "metadata": {
            "tags": []
          },
          "execution_count": 132
        }
      ]
    },
    {
      "cell_type": "code",
      "metadata": {
        "id": "dT9MmQRYjXoK",
        "colab_type": "code",
        "outputId": "cb0b26c6-cdad-4102-9668-109bc2425c3f",
        "colab": {
          "base_uri": "https://localhost:8080/",
          "height": 34
        }
      },
      "source": [
        "test_labels.shape"
      ],
      "execution_count": 0,
      "outputs": [
        {
          "output_type": "execute_result",
          "data": {
            "text/plain": [
              "(10000,)"
            ]
          },
          "metadata": {
            "tags": []
          },
          "execution_count": 133
        }
      ]
    },
    {
      "cell_type": "code",
      "metadata": {
        "id": "A01V8JSbiVgh",
        "colab_type": "code",
        "outputId": "950fb972-61dd-4770-ad04-dca1252073c1",
        "colab": {
          "base_uri": "https://localhost:8080/",
          "height": 34
        }
      },
      "source": [
        "#Max value:Training images\n",
        "training_images.max()"
      ],
      "execution_count": 0,
      "outputs": [
        {
          "output_type": "execute_result",
          "data": {
            "text/plain": [
              "1.0"
            ]
          },
          "metadata": {
            "tags": []
          },
          "execution_count": 156
        }
      ]
    },
    {
      "cell_type": "code",
      "metadata": {
        "id": "7HlK3bD8ijH6",
        "colab_type": "code",
        "outputId": "4bb31c0d-d73f-491a-8efc-acdb380af264",
        "colab": {
          "base_uri": "https://localhost:8080/",
          "height": 34
        }
      },
      "source": [
        "#Min value:Training images\n",
        "training_images.min()"
      ],
      "execution_count": 0,
      "outputs": [
        {
          "output_type": "execute_result",
          "data": {
            "text/plain": [
              "0.0"
            ]
          },
          "metadata": {
            "tags": []
          },
          "execution_count": 157
        }
      ]
    },
    {
      "cell_type": "code",
      "metadata": {
        "id": "6e_sVf64iwJb",
        "colab_type": "code",
        "outputId": "55361101-aa53-4a62-de4c-f2f58f12deff",
        "colab": {
          "base_uri": "https://localhost:8080/",
          "height": 34
        }
      },
      "source": [
        "#Max value:Test images:\n",
        "test_images.min()"
      ],
      "execution_count": 0,
      "outputs": [
        {
          "output_type": "execute_result",
          "data": {
            "text/plain": [
              "0.0"
            ]
          },
          "metadata": {
            "tags": []
          },
          "execution_count": 136
        }
      ]
    },
    {
      "cell_type": "code",
      "metadata": {
        "id": "6HniPzoRi7W_",
        "colab_type": "code",
        "outputId": "73a7b587-06e4-40dc-8549-3997c435b1b1",
        "colab": {
          "base_uri": "https://localhost:8080/",
          "height": 34
        }
      },
      "source": [
        "#Min value:Test images:\n",
        "test_images.min()"
      ],
      "execution_count": 0,
      "outputs": [
        {
          "output_type": "execute_result",
          "data": {
            "text/plain": [
              "0.0"
            ]
          },
          "metadata": {
            "tags": []
          },
          "execution_count": 137
        }
      ]
    },
    {
      "cell_type": "markdown",
      "metadata": {
        "id": "7oPvFOgfdPhq",
        "colab_type": "text"
      },
      "source": [
        "Let's Design the Model:"
      ]
    },
    {
      "cell_type": "code",
      "metadata": {
        "id": "Z7HEVmGfdN6U",
        "colab_type": "code",
        "colab": {}
      },
      "source": [
        " model_new = tf.keras.models.Sequential([tf.keras.layers.Flatten(input_shape=(28,28)),\n",
        "                                                tf.keras.layers.Dense(128,activation=tf.nn.relu),\n",
        "                                                tf.keras.layers.Dense(10,activation=tf.nn.softmax)])"
      ],
      "execution_count": 0,
      "outputs": []
    },
    {
      "cell_type": "code",
      "metadata": {
        "id": "SoDlc5FtjiAT",
        "colab_type": "code",
        "outputId": "30994617-8aea-4369-b29f-60eff05a4fa9",
        "colab": {
          "base_uri": "https://localhost:8080/",
          "height": 34
        }
      },
      "source": [
        "print(model_new)"
      ],
      "execution_count": 0,
      "outputs": [
        {
          "output_type": "stream",
          "text": [
            "<tensorflow.python.keras.engine.sequential.Sequential object at 0x7fc60bcb2be0>\n"
          ],
          "name": "stdout"
        }
      ]
    },
    {
      "cell_type": "code",
      "metadata": {
        "id": "Smb5z-Jejm6y",
        "colab_type": "code",
        "outputId": "6632df88-4d4f-4795-9b58-0f482527ade0",
        "colab": {
          "base_uri": "https://localhost:8080/",
          "height": 255
        }
      },
      "source": [
        "model_new.summary()"
      ],
      "execution_count": 0,
      "outputs": [
        {
          "output_type": "stream",
          "text": [
            "Model: \"sequential_14\"\n",
            "_________________________________________________________________\n",
            "Layer (type)                 Output Shape              Param #   \n",
            "=================================================================\n",
            "flatten_14 (Flatten)         (None, 784)               0         \n",
            "_________________________________________________________________\n",
            "dense_28 (Dense)             (None, 128)               100480    \n",
            "_________________________________________________________________\n",
            "dense_29 (Dense)             (None, 10)                1290      \n",
            "=================================================================\n",
            "Total params: 101,770\n",
            "Trainable params: 101,770\n",
            "Non-trainable params: 0\n",
            "_________________________________________________________________\n"
          ],
          "name": "stdout"
        }
      ]
    },
    {
      "cell_type": "markdown",
      "metadata": {
        "id": "mXuB_Vjrf0hq",
        "colab_type": "text"
      },
      "source": [
        "Now, our model is defined. So, let's build it using **compiling** it:"
      ]
    },
    {
      "cell_type": "code",
      "metadata": {
        "id": "fHahodOlfzUh",
        "colab_type": "code",
        "colab": {}
      },
      "source": [
        "#Configures the model for training:\n",
        "model_new.compile(optimizer = tf.keras.optimizers.Adam(),loss =tf.keras.losses.sparse_categorical_crossentropy,metrics = ['accuracy'])"
      ],
      "execution_count": 0,
      "outputs": []
    },
    {
      "cell_type": "code",
      "metadata": {
        "id": "nbdqta47nqj8",
        "colab_type": "code",
        "outputId": "359ccaf1-070f-4b76-8381-f04d50f48d84",
        "colab": {
          "base_uri": "https://localhost:8080/",
          "height": 204
        }
      },
      "source": [
        "#Train the model by fitting the Training Data to lables:\n",
        "model_new.fit(training_images,training_labels,epochs=5)"
      ],
      "execution_count": 0,
      "outputs": [
        {
          "output_type": "stream",
          "text": [
            "Epoch 1/5\n",
            "1875/1875 [==============================] - 3s 2ms/step - loss: 0.2336 - accuracy: 0.9124\n",
            "Epoch 2/5\n",
            "1875/1875 [==============================] - 3s 2ms/step - loss: 0.2247 - accuracy: 0.9153\n",
            "Epoch 3/5\n",
            "1875/1875 [==============================] - 3s 2ms/step - loss: 0.2179 - accuracy: 0.9181\n",
            "Epoch 4/5\n",
            "1875/1875 [==============================] - 3s 2ms/step - loss: 0.2101 - accuracy: 0.9212\n",
            "Epoch 5/5\n",
            "1875/1875 [==============================] - 3s 2ms/step - loss: 0.2039 - accuracy: 0.9223\n"
          ],
          "name": "stdout"
        },
        {
          "output_type": "execute_result",
          "data": {
            "text/plain": [
              "<tensorflow.python.keras.callbacks.History at 0x7fc608c1e0f0>"
            ]
          },
          "metadata": {
            "tags": []
          },
          "execution_count": 186
        }
      ]
    },
    {
      "cell_type": "markdown",
      "metadata": {
        "id": "saynVZxU68RC",
        "colab_type": "text"
      },
      "source": [
        "We can see that the accuracy value at the end of final epoch is 0.9223 which tells us that our Neural Network is **92% accurate in classifying the Training Data**. This means that it figured out a pattern match between the image and label that worked 91% of the time. "
      ]
    },
    {
      "cell_type": "code",
      "metadata": {
        "id": "jHZWzc3Lkz6G",
        "colab_type": "code",
        "outputId": "1e13c6de-4ca6-4028-b2ba-2a4f270da647",
        "colab": {
          "base_uri": "https://localhost:8080/",
          "height": 51
        }
      },
      "source": [
        "#Now,let's see the accuracy on test dataset:\n",
        "model_new.evaluate(test_images,test_labels)"
      ],
      "execution_count": 0,
      "outputs": [
        {
          "output_type": "stream",
          "text": [
            "313/313 [==============================] - 0s 1ms/step - loss: 0.3454 - accuracy: 0.8872\n"
          ],
          "name": "stdout"
        },
        {
          "output_type": "execute_result",
          "data": {
            "text/plain": [
              "[0.34537309408187866, 0.8871999979019165]"
            ]
          },
          "metadata": {
            "tags": []
          },
          "execution_count": 187
        }
      ]
    },
    {
      "cell_type": "markdown",
      "metadata": {
        "id": "9W6Gpe558cIT",
        "colab_type": "text"
      },
      "source": [
        "We can see that we have got 0.8872 which means the model was 88% accurate."
      ]
    },
    {
      "cell_type": "markdown",
      "metadata": {
        "id": "w2oW3D7D81XD",
        "colab_type": "text"
      },
      "source": [
        "Let's explore the further things:"
      ]
    },
    {
      "cell_type": "markdown",
      "metadata": {
        "id": "KAGsXFcd9Hig",
        "colab_type": "text"
      },
      "source": [
        "Let's create a set of classifications for each image in the test image dataset and then prints the first entry in the classifications. The ourput after we run the following code is a list of numbers. Let's see:"
      ]
    },
    {
      "cell_type": "code",
      "metadata": {
        "id": "HFnFOMQ08bMA",
        "colab_type": "code",
        "colab": {}
      },
      "source": [
        "classifications = model_new.predict(test_images)"
      ],
      "execution_count": 0,
      "outputs": []
    },
    {
      "cell_type": "code",
      "metadata": {
        "id": "OVJp6ppP9nmO",
        "colab_type": "code",
        "outputId": "fb008dc6-774d-4687-9d92-9e79c8b6709c",
        "colab": {
          "base_uri": "https://localhost:8080/",
          "height": 34
        }
      },
      "source": [
        "type(classifications)"
      ],
      "execution_count": 0,
      "outputs": [
        {
          "output_type": "execute_result",
          "data": {
            "text/plain": [
              "numpy.ndarray"
            ]
          },
          "metadata": {
            "tags": []
          },
          "execution_count": 189
        }
      ]
    },
    {
      "cell_type": "code",
      "metadata": {
        "id": "ElIx50IA9tcT",
        "colab_type": "code",
        "outputId": "916d45eb-ff70-4433-85f5-751ad8d8c0ac",
        "colab": {
          "base_uri": "https://localhost:8080/",
          "height": 34
        }
      },
      "source": [
        "classifications.shape"
      ],
      "execution_count": 0,
      "outputs": [
        {
          "output_type": "execute_result",
          "data": {
            "text/plain": [
              "(10000, 10)"
            ]
          },
          "metadata": {
            "tags": []
          },
          "execution_count": 190
        }
      ]
    },
    {
      "cell_type": "code",
      "metadata": {
        "id": "TGeYjIhD-KoT",
        "colab_type": "code",
        "outputId": "ab15c2e2-f84b-4ba3-f43b-b8c6773cb436",
        "colab": {
          "base_uri": "https://localhost:8080/",
          "height": 34
        }
      },
      "source": [
        "len(classifications[0])"
      ],
      "execution_count": 0,
      "outputs": [
        {
          "output_type": "execute_result",
          "data": {
            "text/plain": [
              "10"
            ]
          },
          "metadata": {
            "tags": []
          },
          "execution_count": 192
        }
      ]
    },
    {
      "cell_type": "code",
      "metadata": {
        "id": "cVkOYuPh9x0C",
        "colab_type": "code",
        "outputId": "22765c3c-9241-4e8a-8fbb-50378a751be7",
        "colab": {
          "base_uri": "https://localhost:8080/",
          "height": 51
        }
      },
      "source": [
        "#Print the first classification:\n",
        "#1st row in an array-->\n",
        "print(classifications[0])"
      ],
      "execution_count": 0,
      "outputs": [
        {
          "output_type": "stream",
          "text": [
            "[9.2031707e-09 7.0898087e-14 2.7658806e-10 7.4765742e-13 3.3091748e-15\n",
            " 1.5456628e-04 4.1208256e-11 7.2020465e-03 2.2415507e-09 9.9264342e-01]\n"
          ],
          "name": "stdout"
        }
      ]
    },
    {
      "cell_type": "markdown",
      "metadata": {
        "id": "-zAXwqC5-mGP",
        "colab_type": "text"
      },
      "source": [
        "What does this list tells us:\n",
        "This tells us that it's the **Probability** that this item is belongs to each of the 10 classes."
      ]
    },
    {
      "cell_type": "code",
      "metadata": {
        "id": "kU-M2e29-RfG",
        "colab_type": "code",
        "outputId": "179ee171-dc3f-4a53-cd02-aa52d36b488c",
        "colab": {
          "base_uri": "https://localhost:8080/",
          "height": 34
        }
      },
      "source": [
        "#Print test labels:\n",
        "print(test_labels[0])"
      ],
      "execution_count": 0,
      "outputs": [
        {
          "output_type": "stream",
          "text": [
            "9\n"
          ],
          "name": "stdout"
        }
      ]
    },
    {
      "cell_type": "code",
      "metadata": {
        "id": "OzRpghWS_48w",
        "colab_type": "code",
        "colab": {}
      },
      "source": [
        "import numpy as np\n"
      ],
      "execution_count": 0,
      "outputs": []
    },
    {
      "cell_type": "code",
      "metadata": {
        "id": "nhF_Z2pw_-oT",
        "colab_type": "code",
        "outputId": "b197b803-3187-4991-998a-20fb0a38af21",
        "colab": {
          "base_uri": "https://localhost:8080/",
          "height": 34
        }
      },
      "source": [
        "np.max(classifications[0])"
      ],
      "execution_count": 0,
      "outputs": [
        {
          "output_type": "execute_result",
          "data": {
            "text/plain": [
              "0.9926434"
            ]
          },
          "metadata": {
            "tags": []
          },
          "execution_count": 195
        }
      ]
    },
    {
      "cell_type": "code",
      "metadata": {
        "id": "c-TdPaR7Aivf",
        "colab_type": "code",
        "outputId": "f69ab51a-6615-4e99-e392-ec9fe6c02cca",
        "colab": {
          "base_uri": "https://localhost:8080/",
          "height": 34
        }
      },
      "source": [
        "np.argmax(classifications[0])"
      ],
      "execution_count": 0,
      "outputs": [
        {
          "output_type": "execute_result",
          "data": {
            "text/plain": [
              "9"
            ]
          },
          "metadata": {
            "tags": []
          },
          "execution_count": 196
        }
      ]
    },
    {
      "cell_type": "markdown",
      "metadata": {
        "id": "C3jxu4auAT2Q",
        "colab_type": "text"
      },
      "source": [
        "From the above code, we can tells that the highest probability value in that list is **0.9926434 which around 99%** and the index position of that probability in list is **9**.So, we can conclude that the given image is categorized into **class 9** which is **Ankle Boot.**  \n",
        "### How do you know that this list tells you that the item is an ankle boot?\n",
        "Both the list and labels are 0 based index, so the Ankle Boot which having label 9 means that it is the 10th of the 10 classes.The list having the 10th element being the highest value means that the Neural Network has predicted that the item it is classifying is most likely an ankle boot"
      ]
    },
    {
      "cell_type": "markdown",
      "metadata": {
        "id": "CXFro1nBCsz3",
        "colab_type": "text"
      },
      "source": [
        "### Experimentation with number of Neurons:\n",
        "- Change the number of Neurons in Dense Layer and observe it's effect on:\n",
        " - Model accuracy\n",
        " - Training Time etc."
      ]
    },
    {
      "cell_type": "code",
      "metadata": {
        "id": "EnIqPNNMAKTI",
        "colab_type": "code",
        "outputId": "1e505540-06c5-4ab7-d3cb-dda0c8520d0c",
        "colab": {
          "base_uri": "https://localhost:8080/",
          "height": 221
        }
      },
      "source": [
        "#Import required libraries/depencies:\n",
        "import tensorflow as tf\n",
        "\n",
        "#Print tensorflow version:\n",
        "print(tf.__version__)\n",
        "\n",
        "#Load the dataset:\n",
        "mnist_dataset_2 = tf.keras.datasets.fashion_mnist\n",
        "\n",
        "#Calling on mnist_dataset_2 object to retrive train and test datasets:\n",
        "(training_images,training_labels),(test_images,test_labels) = mnist_dataset.load_data()\n",
        "\n",
        "#Normalize the dataset for better training:\n",
        "training_images = training_images/255.0\n",
        "test_images = test_images/255.0\n",
        "\n",
        "#Construct the model:\n",
        "model_2 = tf.keras.models.Sequential([tf.keras.layers.Flatten(input_shape=(28,28)),\n",
        "                                      tf.keras.layers.Dense(1024,activation=tf.nn.relu),\n",
        "                                      tf.keras.layers.Dense(10,tf.nn.softmax)])\n",
        "\n",
        "#Configure the model for training:\n",
        "model_2.compile(optimizer='adam',loss='sparse_categorical_crossentropy',metrics=['accuracy'])\n",
        "\n",
        "#Fit the Training images with labels:\n",
        "model_2.fit(training_images,training_labels,epochs=5)"
      ],
      "execution_count": 0,
      "outputs": [
        {
          "output_type": "stream",
          "text": [
            "2.2.0\n",
            "Epoch 1/5\n",
            "1875/1875 [==============================] - 11s 6ms/step - loss: 0.4681 - accuracy: 0.8305\n",
            "Epoch 2/5\n",
            "1875/1875 [==============================] - 12s 6ms/step - loss: 0.3555 - accuracy: 0.8689\n",
            "Epoch 3/5\n",
            "1875/1875 [==============================] - 12s 6ms/step - loss: 0.3196 - accuracy: 0.8821\n",
            "Epoch 4/5\n",
            "1875/1875 [==============================] - 11s 6ms/step - loss: 0.2949 - accuracy: 0.8895\n",
            "Epoch 5/5\n",
            "1875/1875 [==============================] - 11s 6ms/step - loss: 0.2770 - accuracy: 0.8979\n"
          ],
          "name": "stdout"
        },
        {
          "output_type": "execute_result",
          "data": {
            "text/plain": [
              "<tensorflow.python.keras.callbacks.History at 0x7fc60bd20e48>"
            ]
          },
          "metadata": {
            "tags": []
          },
          "execution_count": 198
        }
      ]
    },
    {
      "cell_type": "code",
      "metadata": {
        "id": "OWZjWFClHPd-",
        "colab_type": "code",
        "outputId": "4e4e43e6-e00f-429e-adb2-83ed42d07f1b",
        "colab": {
          "base_uri": "https://localhost:8080/",
          "height": 51
        }
      },
      "source": [
        "#Evaluate the accuracy on Test dataset:\n",
        "model_2.evaluate(test_images,test_labels)"
      ],
      "execution_count": 0,
      "outputs": [
        {
          "output_type": "stream",
          "text": [
            "313/313 [==============================] - 1s 3ms/step - loss: 0.3376 - accuracy: 0.8794\n"
          ],
          "name": "stdout"
        },
        {
          "output_type": "execute_result",
          "data": {
            "text/plain": [
              "[0.3375718593597412, 0.8794000148773193]"
            ]
          },
          "metadata": {
            "tags": []
          },
          "execution_count": 199
        }
      ]
    },
    {
      "cell_type": "markdown",
      "metadata": {
        "id": "MaJ6ftkxIGAG",
        "colab_type": "text"
      },
      "source": [
        "By adding more neurons in the layer results **in longer time for model training**. But this gives advantage in **increase in prediction accuracy**."
      ]
    },
    {
      "cell_type": "markdown",
      "metadata": {
        "id": "uFQrOj8TtB_s",
        "colab_type": "text"
      },
      "source": [
        "### Effect of Droping input layer:"
      ]
    },
    {
      "cell_type": "markdown",
      "metadata": {
        "id": "VQ1XO8NemFD4",
        "colab_type": "text"
      },
      "source": [
        "If we remove the first layer i.e. **Flatten() layer** we get the an error about the shape of the input data. There is a rule of thumb that the **first layer in any Neural Network should be the same shape as the data.** In our case, the input image shape is 28 x 28 pixels so **28 layers of 28 Neurons** would be infeasible and timecosuming to construct. So, it makes more sense to **flatten that 28 x 28 into 784 x 1**. So, the resulting input image converts from Matrix format to Vector format which contain **784 rows and 1 column**.  "
      ]
    },
    {
      "cell_type": "code",
      "metadata": {
        "id": "OlNMtKeMmENB",
        "colab_type": "code",
        "colab": {
          "base_uri": "https://localhost:8080/",
          "height": 238
        },
        "outputId": "a9956717-7b67-4a49-d0ab-f6ac798158a9"
      },
      "source": [
        "import tensorflow as tf\n",
        "print(tf.__version__)\n",
        "\n",
        "mnist_3 = tf.keras.datasets.mnist\n",
        "\n",
        "(training_images,training_labels),(test_images,test_labels) = mnist_3.load_data()\n",
        "\n",
        "#Normalize the data:\n",
        "training_images = training_images / 255.0\n",
        "test_images = test_images / 255.0\n",
        "\n",
        "#Model building:\n",
        "model_3 = tf.keras.models.Sequential([tf.keras.layers.Flatten(input_shape=(28,28)),\n",
        "                                      tf.keras.layers.Dense(128,activation=tf.nn.relu),\n",
        "                                      tf.keras.layers.Dense(10,activation=tf.nn.softmax)])\n",
        "'''\n",
        "model_3 = tf.keras.models.Sequential([tf.keras.layers.Dense(128,activation=tf.nn.relu),\n",
        "                                      tf.keras.layers.Dense(10,activation=tf.nn.softmax)])\n",
        "'''\n",
        "#Configure the model for training:\n",
        "model_3.compile(optimizer='adam',\n",
        "                loss=tf.keras.losses.sparse_categorical_crossentropy)\n",
        "\n",
        "#Fit the training data with labels:\n",
        "model_3.fit(training_images,training_labels,epochs=5)\n",
        "\n",
        "#Evaluate model accuracy on test data:\n",
        "model_3.evaluate(test_images,test_labels)"
      ],
      "execution_count": 3,
      "outputs": [
        {
          "output_type": "stream",
          "text": [
            "2.2.0\n",
            "Epoch 1/5\n",
            "1875/1875 [==============================] - 3s 2ms/step - loss: 0.2588\n",
            "Epoch 2/5\n",
            "1875/1875 [==============================] - 3s 2ms/step - loss: 0.1127\n",
            "Epoch 3/5\n",
            "1875/1875 [==============================] - 3s 2ms/step - loss: 0.0773\n",
            "Epoch 4/5\n",
            "1875/1875 [==============================] - 3s 2ms/step - loss: 0.0563\n",
            "Epoch 5/5\n",
            "1875/1875 [==============================] - 3s 2ms/step - loss: 0.0438\n",
            "313/313 [==============================] - 0s 1ms/step - loss: 0.0765\n"
          ],
          "name": "stdout"
        },
        {
          "output_type": "execute_result",
          "data": {
            "text/plain": [
              "0.07651972770690918"
            ]
          },
          "metadata": {
            "tags": []
          },
          "execution_count": 3
        }
      ]
    },
    {
      "cell_type": "markdown",
      "metadata": {
        "id": "GK1mtjc-sYpG",
        "colab_type": "text"
      },
      "source": [
        "Another rule of thumb -- the number of **Neurons in the last layer** should match the **Number of classes** we are classifying for. In our case it's the class of items from 0-9, so there are 10 of them, hence we should have 10 neurons in our final layer."
      ]
    },
    {
      "cell_type": "markdown",
      "metadata": {
        "id": "x9K_b_kCs4lk",
        "colab_type": "text"
      },
      "source": [
        "### Effect of Additional hidden layers:"
      ]
    },
    {
      "cell_type": "code",
      "metadata": {
        "id": "PAdpZ5boIe9V",
        "colab_type": "code",
        "colab": {
          "base_uri": "https://localhost:8080/",
          "height": 221
        },
        "outputId": "76429cf9-edb2-44af-b779-e8543f93835f"
      },
      "source": [
        "#Import tensorflow module:\n",
        "import tensorflow as tf\n",
        "\n",
        "#Load the Fashion MNIST dataset:\n",
        "mnist_4 = tf.keras.datasets.fashion_mnist\n",
        "\n",
        "#Create an Object of the dataset:\n",
        "(training_images,training_labels),(test_images,test_labels) = mnist_4.load_data()\n",
        "\n",
        "#Normalize training and testing dataset:\n",
        "training_images = training_images / 255.0\n",
        "test_images = test_images / 255.0\n",
        "\n",
        "#Build the model with extra hidden layers:\n",
        "model_4 = tf.keras.models.Sequential([tf.keras.layers.Flatten(input_shape=(28,28)),\n",
        "                                      tf.keras.layers.Dense(256,activation=tf.nn.relu),\n",
        "                                      tf.keras.layers.Dense(512,activation=tf.nn.relu),\n",
        "                                      tf.keras.layers.Dense(1024,activation=tf.nn.relu),\n",
        "                                      tf.keras.layers.Dense(10,activation=tf.nn.softmax)])\n",
        "\n",
        "#Configure the model for training:\n",
        "model_4.compile(optimizer=tf.keras.optimizers.Adam(),\n",
        "                loss=tf.keras.losses.sparse_categorical_crossentropy,\n",
        "                metrics=['accuracy'])\n",
        "\n",
        "#Fit the training data with labels and start training for 5 epochs:\n",
        "model_4.fit(training_images,training_labels,epochs=5)\n",
        "\n",
        "#Evaluate the model accuracy on test data:\n",
        "model_4.evaluate(test_images,test_labels)"
      ],
      "execution_count": 5,
      "outputs": [
        {
          "output_type": "stream",
          "text": [
            "Epoch 1/5\n",
            "1875/1875 [==============================] - 20s 10ms/step - loss: 0.4779 - accuracy: 0.8256\n",
            "Epoch 2/5\n",
            "1875/1875 [==============================] - 20s 11ms/step - loss: 0.3686 - accuracy: 0.8640\n",
            "Epoch 3/5\n",
            "1875/1875 [==============================] - 20s 11ms/step - loss: 0.3335 - accuracy: 0.8765\n",
            "Epoch 4/5\n",
            "1875/1875 [==============================] - 20s 11ms/step - loss: 0.3051 - accuracy: 0.8868\n",
            "Epoch 5/5\n",
            "1875/1875 [==============================] - 20s 11ms/step - loss: 0.2910 - accuracy: 0.8924\n",
            "313/313 [==============================] - 1s 3ms/step - loss: 0.3363 - accuracy: 0.8777\n"
          ],
          "name": "stdout"
        },
        {
          "output_type": "execute_result",
          "data": {
            "text/plain": [
              "[0.33626702427864075, 0.8776999711990356]"
            ]
          },
          "metadata": {
            "tags": []
          },
          "execution_count": 5
        }
      ]
    },
    {
      "cell_type": "markdown",
      "metadata": {
        "id": "mQnkoPSitmyZ",
        "colab_type": "text"
      },
      "source": [
        "**Conclusion: There isn't a significant impact** -- because this is relatively simple data. For far more complex data (including **color images** to be classified as flowers ), extra layers are often necessary at that time."
      ]
    },
    {
      "cell_type": "markdown",
      "metadata": {
        "id": "QTlbyhyQyYMz",
        "colab_type": "text"
      },
      "source": [
        "### Increase the number of epochs:"
      ]
    },
    {
      "cell_type": "markdown",
      "metadata": {
        "id": "RueJFfdc1Y_F",
        "colab_type": "text"
      },
      "source": [
        "- Training with **25 Epochs**:"
      ]
    },
    {
      "cell_type": "code",
      "metadata": {
        "id": "0IUIWxEOyqAU",
        "colab_type": "code",
        "colab": {
          "base_uri": "https://localhost:8080/",
          "height": 901
        },
        "outputId": "40039710-3ebf-42cd-bee5-e4a5e1390e6f"
      },
      "source": [
        "#Import tensorflow module:\n",
        "import tensorflow as tf\n",
        "\n",
        "#Load the Fashion MNIST dataset:\n",
        "mnist_4 = tf.keras.datasets.fashion_mnist\n",
        "\n",
        "#Create an Object of the dataset:\n",
        "(training_images,training_labels),(test_images,test_labels) = mnist_4.load_data()\n",
        "\n",
        "#Normalize training and testing dataset:\n",
        "training_images = training_images / 255.0\n",
        "test_images = test_images / 255.0\n",
        "\n",
        "#Build the model with extra hidden layers:\n",
        "model_4 = tf.keras.models.Sequential([tf.keras.layers.Flatten(input_shape=(28,28)),\n",
        "                                      tf.keras.layers.Dense(256,activation=tf.nn.relu),\n",
        "                                      tf.keras.layers.Dense(512,activation=tf.nn.relu),\n",
        "                                      tf.keras.layers.Dense(1024,activation=tf.nn.relu),\n",
        "                                      tf.keras.layers.Dense(10,activation=tf.nn.softmax)])\n",
        "\n",
        "#Configure the model for training:\n",
        "model_4.compile(optimizer=tf.keras.optimizers.Adam(),\n",
        "                loss=tf.keras.losses.sparse_categorical_crossentropy,\n",
        "                metrics=['accuracy'])\n",
        "\n",
        "#Fit the training data with labels and start training for 25 epochs:\n",
        "model_4.fit(training_images,training_labels,epochs=25)\n",
        "\n",
        "#Evaluate the model accuracy on test data:\n",
        "model_4.evaluate(test_images,test_labels)"
      ],
      "execution_count": 6,
      "outputs": [
        {
          "output_type": "stream",
          "text": [
            "Epoch 1/25\n",
            "1875/1875 [==============================] - 21s 11ms/step - loss: 0.4758 - accuracy: 0.8272\n",
            "Epoch 2/25\n",
            "1875/1875 [==============================] - 20s 11ms/step - loss: 0.3680 - accuracy: 0.8660\n",
            "Epoch 3/25\n",
            "1875/1875 [==============================] - 20s 10ms/step - loss: 0.3339 - accuracy: 0.8780\n",
            "Epoch 4/25\n",
            "1875/1875 [==============================] - 21s 11ms/step - loss: 0.3074 - accuracy: 0.8842\n",
            "Epoch 5/25\n",
            "1875/1875 [==============================] - 20s 11ms/step - loss: 0.2874 - accuracy: 0.8921\n",
            "Epoch 6/25\n",
            "1875/1875 [==============================] - 20s 11ms/step - loss: 0.2747 - accuracy: 0.8964\n",
            "Epoch 7/25\n",
            "1875/1875 [==============================] - 21s 11ms/step - loss: 0.2617 - accuracy: 0.9018\n",
            "Epoch 8/25\n",
            "1875/1875 [==============================] - 21s 11ms/step - loss: 0.2540 - accuracy: 0.9037\n",
            "Epoch 9/25\n",
            "1875/1875 [==============================] - 21s 11ms/step - loss: 0.2429 - accuracy: 0.9080\n",
            "Epoch 10/25\n",
            "1875/1875 [==============================] - 20s 11ms/step - loss: 0.2335 - accuracy: 0.9110\n",
            "Epoch 11/25\n",
            "1875/1875 [==============================] - 20s 11ms/step - loss: 0.2260 - accuracy: 0.9146\n",
            "Epoch 12/25\n",
            "1875/1875 [==============================] - 20s 11ms/step - loss: 0.2247 - accuracy: 0.9160\n",
            "Epoch 13/25\n",
            "1875/1875 [==============================] - 20s 10ms/step - loss: 0.2131 - accuracy: 0.9198\n",
            "Epoch 14/25\n",
            "1875/1875 [==============================] - 20s 11ms/step - loss: 0.2066 - accuracy: 0.9221\n",
            "Epoch 15/25\n",
            "1875/1875 [==============================] - 20s 11ms/step - loss: 0.1995 - accuracy: 0.9238\n",
            "Epoch 16/25\n",
            "1875/1875 [==============================] - 20s 11ms/step - loss: 0.1960 - accuracy: 0.9263\n",
            "Epoch 17/25\n",
            "1875/1875 [==============================] - 20s 11ms/step - loss: 0.1893 - accuracy: 0.9284\n",
            "Epoch 18/25\n",
            "1875/1875 [==============================] - 20s 11ms/step - loss: 0.1870 - accuracy: 0.9294\n",
            "Epoch 19/25\n",
            "1875/1875 [==============================] - 20s 11ms/step - loss: 0.1801 - accuracy: 0.9314\n",
            "Epoch 20/25\n",
            "1875/1875 [==============================] - 20s 11ms/step - loss: 0.1767 - accuracy: 0.9327\n",
            "Epoch 21/25\n",
            "1875/1875 [==============================] - 20s 11ms/step - loss: 0.1768 - accuracy: 0.9336\n",
            "Epoch 22/25\n",
            "1875/1875 [==============================] - 21s 11ms/step - loss: 0.1698 - accuracy: 0.9352\n",
            "Epoch 23/25\n",
            "1875/1875 [==============================] - 23s 12ms/step - loss: 0.1629 - accuracy: 0.9381\n",
            "Epoch 24/25\n",
            "1875/1875 [==============================] - 23s 12ms/step - loss: 0.1623 - accuracy: 0.9390\n",
            "Epoch 25/25\n",
            "1875/1875 [==============================] - 22s 11ms/step - loss: 0.1601 - accuracy: 0.9388\n",
            "313/313 [==============================] - 1s 3ms/step - loss: 0.4752 - accuracy: 0.8852\n"
          ],
          "name": "stdout"
        },
        {
          "output_type": "execute_result",
          "data": {
            "text/plain": [
              "[0.47523802518844604, 0.885200023651123]"
            ]
          },
          "metadata": {
            "tags": []
          },
          "execution_count": 6
        }
      ]
    },
    {
      "cell_type": "markdown",
      "metadata": {
        "id": "iZbQCtgc1eu4",
        "colab_type": "text"
      },
      "source": [
        "- Training with **30 epochs:**"
      ]
    },
    {
      "cell_type": "code",
      "metadata": {
        "colab_type": "code",
        "outputId": "5c48baa1-f5a8-4977-ac37-d8f3a0a463dc",
        "id": "V1SeyS1D1Vc5",
        "colab": {
          "base_uri": "https://localhost:8080/",
          "height": 1000
        }
      },
      "source": [
        "#Import tensorflow module:\n",
        "import tensorflow as tf\n",
        "\n",
        "#Load the Fashion MNIST dataset:\n",
        "mnist_4 = tf.keras.datasets.fashion_mnist\n",
        "\n",
        "#Create an Object of the dataset:\n",
        "(training_images,training_labels),(test_images,test_labels) = mnist_4.load_data()\n",
        "\n",
        "#Normalize training and testing dataset:\n",
        "training_images = training_images / 255.0\n",
        "test_images = test_images / 255.0\n",
        "\n",
        "#Build the model with extra hidden layers:\n",
        "model_4 = tf.keras.models.Sequential([tf.keras.layers.Flatten(input_shape=(28,28)),\n",
        "                                      tf.keras.layers.Dense(256,activation=tf.nn.relu),\n",
        "                                      tf.keras.layers.Dense(512,activation=tf.nn.relu),\n",
        "                                      tf.keras.layers.Dense(1024,activation=tf.nn.relu),\n",
        "                                      tf.keras.layers.Dense(10,activation=tf.nn.softmax)])\n",
        "\n",
        "#Configure the model for training:\n",
        "model_4.compile(optimizer=tf.keras.optimizers.Adam(),\n",
        "                loss=tf.keras.losses.sparse_categorical_crossentropy,\n",
        "                metrics=['accuracy'])\n",
        "\n",
        "#Fit the training data with labels and start training for 30 epochs:\n",
        "model_4.fit(training_images,training_labels,epochs=30)\n",
        "\n",
        "#Evaluate the model accuracy on test data:\n",
        "model_4.evaluate(test_images,test_labels)"
      ],
      "execution_count": 7,
      "outputs": [
        {
          "output_type": "stream",
          "text": [
            "Epoch 1/30\n",
            "1875/1875 [==============================] - 21s 11ms/step - loss: 0.4769 - accuracy: 0.8245\n",
            "Epoch 2/30\n",
            "1875/1875 [==============================] - 22s 12ms/step - loss: 0.3663 - accuracy: 0.8656\n",
            "Epoch 3/30\n",
            "1875/1875 [==============================] - 21s 11ms/step - loss: 0.3329 - accuracy: 0.8787\n",
            "Epoch 4/30\n",
            "1875/1875 [==============================] - 21s 11ms/step - loss: 0.3097 - accuracy: 0.8856\n",
            "Epoch 5/30\n",
            "1875/1875 [==============================] - 21s 11ms/step - loss: 0.2911 - accuracy: 0.8909\n",
            "Epoch 6/30\n",
            "1875/1875 [==============================] - 21s 11ms/step - loss: 0.2758 - accuracy: 0.8971\n",
            "Epoch 7/30\n",
            "1875/1875 [==============================] - 21s 11ms/step - loss: 0.2658 - accuracy: 0.8994\n",
            "Epoch 8/30\n",
            "1875/1875 [==============================] - 21s 11ms/step - loss: 0.2533 - accuracy: 0.9044\n",
            "Epoch 9/30\n",
            "1875/1875 [==============================] - 21s 11ms/step - loss: 0.2453 - accuracy: 0.9075\n",
            "Epoch 10/30\n",
            "1875/1875 [==============================] - 21s 11ms/step - loss: 0.2320 - accuracy: 0.9117\n",
            "Epoch 11/30\n",
            "1875/1875 [==============================] - 20s 11ms/step - loss: 0.2301 - accuracy: 0.9127\n",
            "Epoch 12/30\n",
            "1875/1875 [==============================] - 21s 11ms/step - loss: 0.2204 - accuracy: 0.9155\n",
            "Epoch 13/30\n",
            "1875/1875 [==============================] - 21s 11ms/step - loss: 0.2152 - accuracy: 0.9189\n",
            "Epoch 14/30\n",
            "1875/1875 [==============================] - 20s 11ms/step - loss: 0.2067 - accuracy: 0.9212\n",
            "Epoch 15/30\n",
            "1875/1875 [==============================] - 20s 11ms/step - loss: 0.2023 - accuracy: 0.9227\n",
            "Epoch 16/30\n",
            "1875/1875 [==============================] - 20s 11ms/step - loss: 0.1972 - accuracy: 0.9249\n",
            "Epoch 17/30\n",
            "1875/1875 [==============================] - 20s 11ms/step - loss: 0.1920 - accuracy: 0.9268\n",
            "Epoch 18/30\n",
            "1875/1875 [==============================] - 20s 11ms/step - loss: 0.1860 - accuracy: 0.9289\n",
            "Epoch 19/30\n",
            "1875/1875 [==============================] - 20s 11ms/step - loss: 0.1833 - accuracy: 0.9309\n",
            "Epoch 20/30\n",
            "1875/1875 [==============================] - 21s 11ms/step - loss: 0.1745 - accuracy: 0.9326\n",
            "Epoch 21/30\n",
            "1875/1875 [==============================] - 23s 12ms/step - loss: 0.1738 - accuracy: 0.9336\n",
            "Epoch 22/30\n",
            "1875/1875 [==============================] - 20s 10ms/step - loss: 0.1679 - accuracy: 0.9356\n",
            "Epoch 23/30\n",
            "1875/1875 [==============================] - 20s 11ms/step - loss: 0.1629 - accuracy: 0.9378\n",
            "Epoch 24/30\n",
            "1875/1875 [==============================] - 21s 11ms/step - loss: 0.1626 - accuracy: 0.9379\n",
            "Epoch 25/30\n",
            "1875/1875 [==============================] - 20s 11ms/step - loss: 0.1641 - accuracy: 0.9389\n",
            "Epoch 26/30\n",
            "1875/1875 [==============================] - 20s 11ms/step - loss: 0.1496 - accuracy: 0.9425\n",
            "Epoch 27/30\n",
            "1875/1875 [==============================] - 21s 11ms/step - loss: 0.1557 - accuracy: 0.9408\n",
            "Epoch 28/30\n",
            "1875/1875 [==============================] - 20s 11ms/step - loss: 0.1524 - accuracy: 0.9420\n",
            "Epoch 29/30\n",
            "1875/1875 [==============================] - 20s 11ms/step - loss: 0.1459 - accuracy: 0.9448\n",
            "Epoch 30/30\n",
            "1875/1875 [==============================] - 20s 11ms/step - loss: 0.1381 - accuracy: 0.9480\n",
            "313/313 [==============================] - 1s 3ms/step - loss: 0.5745 - accuracy: 0.8857\n"
          ],
          "name": "stdout"
        },
        {
          "output_type": "execute_result",
          "data": {
            "text/plain": [
              "[0.5744760036468506, 0.885699987411499]"
            ]
          },
          "metadata": {
            "tags": []
          },
          "execution_count": 7
        }
      ]
    },
    {
      "cell_type": "markdown",
      "metadata": {
        "id": "fjhzadYPzGSR",
        "colab_type": "text"
      },
      "source": [
        "- With 25 epochs -- we'll probably get a model with a much better loss than the one with 5. \n",
        "- With 30 epochs -- We might see the loss value stops decreasing, and sometimes increases. This is a side effect of something called 'overfitting' and it's something we need to keep an eye out when training neural networks. There's no point in wasting the time in training if we aren't improving your loss."
      ]
    },
    {
      "cell_type": "markdown",
      "metadata": {
        "id": "8zQ7Xq9f4Gq3",
        "colab_type": "text"
      },
      "source": [
        "### Training the Neural Network without Normalizing the Dataset:"
      ]
    },
    {
      "cell_type": "code",
      "metadata": {
        "colab_type": "code",
        "outputId": "2d0acd9d-4a7b-44b3-fe6b-abb702d5cb62",
        "id": "YtJCCmPR4S1E",
        "colab": {
          "base_uri": "https://localhost:8080/",
          "height": 561
        }
      },
      "source": [
        "#Import tensorflow module:\n",
        "import tensorflow as tf\n",
        "\n",
        "#Load the Fashion MNIST dataset:\n",
        "mnist_4 = tf.keras.datasets.fashion_mnist\n",
        "\n",
        "#Create an Object of the dataset:\n",
        "(training_images,training_labels),(test_images,test_labels) = mnist_4.load_data()\n",
        "\n",
        "#Normalize training and testing dataset:\n",
        "#training_images = training_images / 255.0\n",
        "#test_images = test_images / 255.0\n",
        "\n",
        "#Build the model with extra hidden layers:\n",
        "model_4 = tf.keras.models.Sequential([tf.keras.layers.Flatten(input_shape=(28,28)),\n",
        "                                      tf.keras.layers.Dense(256,activation=tf.nn.relu),\n",
        "                                      tf.keras.layers.Dense(512,activation=tf.nn.relu),\n",
        "                                      tf.keras.layers.Dense(1024,activation=tf.nn.relu),\n",
        "                                      tf.keras.layers.Dense(10,activation=tf.nn.softmax)])\n",
        "\n",
        "#Configure the model for training:\n",
        "model_4.compile(optimizer=tf.keras.optimizers.Adam(),\n",
        "                loss=tf.keras.losses.sparse_categorical_crossentropy,\n",
        "                metrics=['accuracy'])\n",
        "\n",
        "#Fit the training data with labels and start training for 15 epochs:\n",
        "model_4.fit(training_images,training_labels,epochs=15)\n",
        "\n",
        "#Evaluate the model accuracy on test data:\n",
        "model_4.evaluate(test_images,test_labels)"
      ],
      "execution_count": 8,
      "outputs": [
        {
          "output_type": "stream",
          "text": [
            "Epoch 1/15\n",
            "1875/1875 [==============================] - 20s 11ms/step - loss: 1.2169 - accuracy: 0.7254\n",
            "Epoch 2/15\n",
            "1875/1875 [==============================] - 20s 10ms/step - loss: 0.5247 - accuracy: 0.8162\n",
            "Epoch 3/15\n",
            "1875/1875 [==============================] - 19s 10ms/step - loss: 0.4917 - accuracy: 0.8279\n",
            "Epoch 4/15\n",
            "1875/1875 [==============================] - 21s 11ms/step - loss: 0.4630 - accuracy: 0.8379\n",
            "Epoch 5/15\n",
            "1875/1875 [==============================] - 20s 10ms/step - loss: 0.4562 - accuracy: 0.8400\n",
            "Epoch 6/15\n",
            "1875/1875 [==============================] - 19s 10ms/step - loss: 0.4397 - accuracy: 0.8466\n",
            "Epoch 7/15\n",
            "1875/1875 [==============================] - 20s 11ms/step - loss: 0.4259 - accuracy: 0.8493\n",
            "Epoch 8/15\n",
            "1875/1875 [==============================] - 21s 11ms/step - loss: 0.4073 - accuracy: 0.8523\n",
            "Epoch 9/15\n",
            "1875/1875 [==============================] - 21s 11ms/step - loss: 0.4419 - accuracy: 0.8309\n",
            "Epoch 10/15\n",
            "1875/1875 [==============================] - 22s 12ms/step - loss: 0.4183 - accuracy: 0.8423\n",
            "Epoch 11/15\n",
            "1875/1875 [==============================] - 24s 13ms/step - loss: 0.4365 - accuracy: 0.8328\n",
            "Epoch 12/15\n",
            "1875/1875 [==============================] - 23s 12ms/step - loss: 0.3909 - accuracy: 0.8593\n",
            "Epoch 13/15\n",
            "1875/1875 [==============================] - 21s 11ms/step - loss: 0.3605 - accuracy: 0.8718\n",
            "Epoch 14/15\n",
            "1875/1875 [==============================] - 22s 12ms/step - loss: 0.3717 - accuracy: 0.8685\n",
            "Epoch 15/15\n",
            "1875/1875 [==============================] - 21s 11ms/step - loss: 0.3490 - accuracy: 0.8741\n",
            "313/313 [==============================] - 1s 3ms/step - loss: 0.4475 - accuracy: 0.8539\n"
          ],
          "name": "stdout"
        },
        {
          "output_type": "execute_result",
          "data": {
            "text/plain": [
              "[0.4475480020046234, 0.8539000153541565]"
            ]
          },
          "metadata": {
            "tags": []
          },
          "execution_count": 8
        }
      ]
    },
    {
      "cell_type": "markdown",
      "metadata": {
        "id": "AZNwyb525psr",
        "colab_type": "text"
      },
      "source": [
        "**Conclusion:** Training the model without Normalizing the input data impact directly on the accuracy of the model. From above, we can see that the accuracy after final epoch is less as compared with Trained model with Normalized data."
      ]
    },
    {
      "cell_type": "markdown",
      "metadata": {
        "id": "R68W9vS_6xgs",
        "colab_type": "text"
      },
      "source": [
        "### **Reducing the Overfitting:**\n",
        "\n",
        "- Earlier when we trained for extra epochs we had an issue where our loss might change. It might have taken a bit of time to wait for the training to do that, and we might have thought '***wouldn't it be nice if I could stop the training when I reach a desired value?***' -- i.e. 95% accuracy might be enough for us, and if we reach that after 3 epochs, why sit around waiting for to finish a lot more epochs."
      ]
    },
    {
      "cell_type": "code",
      "metadata": {
        "id": "mZiDxu_k6s6e",
        "colab_type": "code",
        "colab": {
          "base_uri": "https://localhost:8080/",
          "height": 323
        },
        "outputId": "b3bec3c7-9e3f-4a30-c864-e63ec61a291c"
      },
      "source": [
        "#Import tensorflow module:\n",
        "import tensorflow as tf\n",
        "print(tf.__version__)\n",
        "\n",
        "#Define a class named myCallBack:\n",
        "class myCallBack(tf.keras.callbacks.Callback):\n",
        "  #Define a function(method):\n",
        "  def on_epoch_end(self,epoch,logs={}):\n",
        "    if logs.get('accuracy') > 0.9:\n",
        "      print('\\nReached 90% accuracy so stopped further training!')\n",
        "      self.model.stop_training = True\n",
        "\n",
        "#Create an Object of the class:\n",
        "call_backs = myCallBack()\n",
        "\n",
        "#Import the dataset from keras:\n",
        "mnist_5 = tf.keras.datasets.fashion_mnist\n",
        "\n",
        "#Create an Object from it:\n",
        "(training_images,training_labels),(test_images,test_labels) = mnist_5.load_data()\n",
        "\n",
        "#Normalize the train and test dataset:\n",
        "training_images = training_images / 255.0\n",
        "test_images = test_images / 255.0\n",
        "\n",
        "#Build the model:\n",
        "model_5 = tf.keras.models.Sequential([tf.keras.layers.Flatten(input_shape=(28,28)),\n",
        "                                      tf.keras.layers.Dense(128,activation=tf.nn.relu),\n",
        "                                      tf.keras.layers.Dense(256,activation=tf.nn.relu),\n",
        "                                      tf.keras.layers.Dense(10,activation=tf.nn.softmax)])\n",
        "\n",
        "#Configure the model for training:\n",
        "model_5.compile(optimizer='adam',\n",
        "                loss='sparse_categorical_crossentropy',\n",
        "                metrics=['accuracy'])\n",
        "\n",
        "#Fit the Training data and associated labels:\n",
        "model_5.fit(training_images,training_labels,epochs=10,callbacks=[call_backs])"
      ],
      "execution_count": 12,
      "outputs": [
        {
          "output_type": "stream",
          "text": [
            "2.2.0\n",
            "Epoch 1/10\n",
            "1875/1875 [==============================] - 4s 2ms/step - loss: 0.4792 - accuracy: 0.8262\n",
            "Epoch 2/10\n",
            "1875/1875 [==============================] - 4s 2ms/step - loss: 0.3617 - accuracy: 0.8668\n",
            "Epoch 3/10\n",
            "1875/1875 [==============================] - 4s 2ms/step - loss: 0.3282 - accuracy: 0.8783\n",
            "Epoch 4/10\n",
            "1875/1875 [==============================] - 4s 2ms/step - loss: 0.3048 - accuracy: 0.8866\n",
            "Epoch 5/10\n",
            "1875/1875 [==============================] - 4s 2ms/step - loss: 0.2876 - accuracy: 0.8932\n",
            "Epoch 6/10\n",
            "1875/1875 [==============================] - 4s 2ms/step - loss: 0.2717 - accuracy: 0.8990\n",
            "Epoch 7/10\n",
            "1859/1875 [============================>.] - ETA: 0s - loss: 0.2607 - accuracy: 0.9025\n",
            "Reached 90% accuracy so stopped further training!\n",
            "1875/1875 [==============================] - 4s 2ms/step - loss: 0.2609 - accuracy: 0.9024\n"
          ],
          "name": "stdout"
        },
        {
          "output_type": "execute_result",
          "data": {
            "text/plain": [
              "<tensorflow.python.keras.callbacks.History at 0x7f8454c90160>"
            ]
          },
          "metadata": {
            "tags": []
          },
          "execution_count": 12
        }
      ]
    }
  ]
}